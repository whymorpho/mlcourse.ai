{
 "cells": [
  {
   "cell_type": "code",
   "execution_count": 1,
   "id": "6b388100-4dea-4920-a18b-786590363265",
   "metadata": {},
   "outputs": [],
   "source": [
    "import warnings\n",
    "warnings.filterwarnings(\"ignore\")\n",
    "\n",
    "import numpy as np\n",
    "import pandas as pd\n",
    "from sklearn.ensemble import RandomForestRegressor\n",
    "from sklearn.linear_model import Lasso, LassoCV, LinearRegression\n",
    "from sklearn.metrics import mean_squared_error\n",
    "from sklearn.model_selection import (GridSearchCV, cross_val_score,\n",
    "                                     train_test_split)\n",
    "from sklearn.preprocessing import StandardScaler"
   ]
  },
  {
   "cell_type": "code",
   "execution_count": 2,
   "id": "ce3ef152-33a5-423a-93d0-6280983f173d",
   "metadata": {},
   "outputs": [],
   "source": [
    "# for Jupyter-book, we copy data from GitHub, locally, to save Internet traffic,\n",
    "# you can specify the data/ folder from the root of your cloned\n",
    "# https://github.com/Yorko/mlcourse.ai repo, to save Internet traffic\n",
    "DATA_PATH = \"https://raw.githubusercontent.com/Yorko/mlcourse.ai/master/data/\""
   ]
  },
  {
   "cell_type": "code",
   "execution_count": 3,
   "id": "dadd6cdf-d858-4c5a-966e-b4b3ab5ddcd1",
   "metadata": {},
   "outputs": [],
   "source": [
    "data = pd.read_csv(DATA_PATH + \"winequality-white.csv\", sep=\";\")"
   ]
  },
  {
   "cell_type": "code",
   "execution_count": 4,
   "id": "6baa6933-4090-43f3-93cb-578a5c285939",
   "metadata": {},
   "outputs": [
    {
     "data": {
      "text/html": [
       "<div>\n",
       "<style scoped>\n",
       "    .dataframe tbody tr th:only-of-type {\n",
       "        vertical-align: middle;\n",
       "    }\n",
       "\n",
       "    .dataframe tbody tr th {\n",
       "        vertical-align: top;\n",
       "    }\n",
       "\n",
       "    .dataframe thead th {\n",
       "        text-align: right;\n",
       "    }\n",
       "</style>\n",
       "<table border=\"1\" class=\"dataframe\">\n",
       "  <thead>\n",
       "    <tr style=\"text-align: right;\">\n",
       "      <th></th>\n",
       "      <th>fixed acidity</th>\n",
       "      <th>volatile acidity</th>\n",
       "      <th>citric acid</th>\n",
       "      <th>residual sugar</th>\n",
       "      <th>chlorides</th>\n",
       "      <th>free sulfur dioxide</th>\n",
       "      <th>total sulfur dioxide</th>\n",
       "      <th>density</th>\n",
       "      <th>pH</th>\n",
       "      <th>sulphates</th>\n",
       "      <th>alcohol</th>\n",
       "      <th>quality</th>\n",
       "    </tr>\n",
       "  </thead>\n",
       "  <tbody>\n",
       "    <tr>\n",
       "      <th>0</th>\n",
       "      <td>7.0</td>\n",
       "      <td>0.27</td>\n",
       "      <td>0.36</td>\n",
       "      <td>20.7</td>\n",
       "      <td>0.045</td>\n",
       "      <td>45.0</td>\n",
       "      <td>170.0</td>\n",
       "      <td>1.00100</td>\n",
       "      <td>3.00</td>\n",
       "      <td>0.45</td>\n",
       "      <td>8.8</td>\n",
       "      <td>6</td>\n",
       "    </tr>\n",
       "    <tr>\n",
       "      <th>1</th>\n",
       "      <td>6.3</td>\n",
       "      <td>0.30</td>\n",
       "      <td>0.34</td>\n",
       "      <td>1.6</td>\n",
       "      <td>0.049</td>\n",
       "      <td>14.0</td>\n",
       "      <td>132.0</td>\n",
       "      <td>0.99400</td>\n",
       "      <td>3.30</td>\n",
       "      <td>0.49</td>\n",
       "      <td>9.5</td>\n",
       "      <td>6</td>\n",
       "    </tr>\n",
       "    <tr>\n",
       "      <th>2</th>\n",
       "      <td>8.1</td>\n",
       "      <td>0.28</td>\n",
       "      <td>0.40</td>\n",
       "      <td>6.9</td>\n",
       "      <td>0.050</td>\n",
       "      <td>30.0</td>\n",
       "      <td>97.0</td>\n",
       "      <td>0.99510</td>\n",
       "      <td>3.26</td>\n",
       "      <td>0.44</td>\n",
       "      <td>10.1</td>\n",
       "      <td>6</td>\n",
       "    </tr>\n",
       "    <tr>\n",
       "      <th>3</th>\n",
       "      <td>7.2</td>\n",
       "      <td>0.23</td>\n",
       "      <td>0.32</td>\n",
       "      <td>8.5</td>\n",
       "      <td>0.058</td>\n",
       "      <td>47.0</td>\n",
       "      <td>186.0</td>\n",
       "      <td>0.99560</td>\n",
       "      <td>3.19</td>\n",
       "      <td>0.40</td>\n",
       "      <td>9.9</td>\n",
       "      <td>6</td>\n",
       "    </tr>\n",
       "    <tr>\n",
       "      <th>4</th>\n",
       "      <td>7.2</td>\n",
       "      <td>0.23</td>\n",
       "      <td>0.32</td>\n",
       "      <td>8.5</td>\n",
       "      <td>0.058</td>\n",
       "      <td>47.0</td>\n",
       "      <td>186.0</td>\n",
       "      <td>0.99560</td>\n",
       "      <td>3.19</td>\n",
       "      <td>0.40</td>\n",
       "      <td>9.9</td>\n",
       "      <td>6</td>\n",
       "    </tr>\n",
       "    <tr>\n",
       "      <th>...</th>\n",
       "      <td>...</td>\n",
       "      <td>...</td>\n",
       "      <td>...</td>\n",
       "      <td>...</td>\n",
       "      <td>...</td>\n",
       "      <td>...</td>\n",
       "      <td>...</td>\n",
       "      <td>...</td>\n",
       "      <td>...</td>\n",
       "      <td>...</td>\n",
       "      <td>...</td>\n",
       "      <td>...</td>\n",
       "    </tr>\n",
       "    <tr>\n",
       "      <th>4893</th>\n",
       "      <td>6.2</td>\n",
       "      <td>0.21</td>\n",
       "      <td>0.29</td>\n",
       "      <td>1.6</td>\n",
       "      <td>0.039</td>\n",
       "      <td>24.0</td>\n",
       "      <td>92.0</td>\n",
       "      <td>0.99114</td>\n",
       "      <td>3.27</td>\n",
       "      <td>0.50</td>\n",
       "      <td>11.2</td>\n",
       "      <td>6</td>\n",
       "    </tr>\n",
       "    <tr>\n",
       "      <th>4894</th>\n",
       "      <td>6.6</td>\n",
       "      <td>0.32</td>\n",
       "      <td>0.36</td>\n",
       "      <td>8.0</td>\n",
       "      <td>0.047</td>\n",
       "      <td>57.0</td>\n",
       "      <td>168.0</td>\n",
       "      <td>0.99490</td>\n",
       "      <td>3.15</td>\n",
       "      <td>0.46</td>\n",
       "      <td>9.6</td>\n",
       "      <td>5</td>\n",
       "    </tr>\n",
       "    <tr>\n",
       "      <th>4895</th>\n",
       "      <td>6.5</td>\n",
       "      <td>0.24</td>\n",
       "      <td>0.19</td>\n",
       "      <td>1.2</td>\n",
       "      <td>0.041</td>\n",
       "      <td>30.0</td>\n",
       "      <td>111.0</td>\n",
       "      <td>0.99254</td>\n",
       "      <td>2.99</td>\n",
       "      <td>0.46</td>\n",
       "      <td>9.4</td>\n",
       "      <td>6</td>\n",
       "    </tr>\n",
       "    <tr>\n",
       "      <th>4896</th>\n",
       "      <td>5.5</td>\n",
       "      <td>0.29</td>\n",
       "      <td>0.30</td>\n",
       "      <td>1.1</td>\n",
       "      <td>0.022</td>\n",
       "      <td>20.0</td>\n",
       "      <td>110.0</td>\n",
       "      <td>0.98869</td>\n",
       "      <td>3.34</td>\n",
       "      <td>0.38</td>\n",
       "      <td>12.8</td>\n",
       "      <td>7</td>\n",
       "    </tr>\n",
       "    <tr>\n",
       "      <th>4897</th>\n",
       "      <td>6.0</td>\n",
       "      <td>0.21</td>\n",
       "      <td>0.38</td>\n",
       "      <td>0.8</td>\n",
       "      <td>0.020</td>\n",
       "      <td>22.0</td>\n",
       "      <td>98.0</td>\n",
       "      <td>0.98941</td>\n",
       "      <td>3.26</td>\n",
       "      <td>0.32</td>\n",
       "      <td>11.8</td>\n",
       "      <td>6</td>\n",
       "    </tr>\n",
       "  </tbody>\n",
       "</table>\n",
       "<p>4898 rows × 12 columns</p>\n",
       "</div>"
      ],
      "text/plain": [
       "      fixed acidity  volatile acidity  citric acid  residual sugar  chlorides  \\\n",
       "0               7.0              0.27         0.36            20.7      0.045   \n",
       "1               6.3              0.30         0.34             1.6      0.049   \n",
       "2               8.1              0.28         0.40             6.9      0.050   \n",
       "3               7.2              0.23         0.32             8.5      0.058   \n",
       "4               7.2              0.23         0.32             8.5      0.058   \n",
       "...             ...               ...          ...             ...        ...   \n",
       "4893            6.2              0.21         0.29             1.6      0.039   \n",
       "4894            6.6              0.32         0.36             8.0      0.047   \n",
       "4895            6.5              0.24         0.19             1.2      0.041   \n",
       "4896            5.5              0.29         0.30             1.1      0.022   \n",
       "4897            6.0              0.21         0.38             0.8      0.020   \n",
       "\n",
       "      free sulfur dioxide  total sulfur dioxide  density    pH  sulphates  \\\n",
       "0                    45.0                 170.0  1.00100  3.00       0.45   \n",
       "1                    14.0                 132.0  0.99400  3.30       0.49   \n",
       "2                    30.0                  97.0  0.99510  3.26       0.44   \n",
       "3                    47.0                 186.0  0.99560  3.19       0.40   \n",
       "4                    47.0                 186.0  0.99560  3.19       0.40   \n",
       "...                   ...                   ...      ...   ...        ...   \n",
       "4893                 24.0                  92.0  0.99114  3.27       0.50   \n",
       "4894                 57.0                 168.0  0.99490  3.15       0.46   \n",
       "4895                 30.0                 111.0  0.99254  2.99       0.46   \n",
       "4896                 20.0                 110.0  0.98869  3.34       0.38   \n",
       "4897                 22.0                  98.0  0.98941  3.26       0.32   \n",
       "\n",
       "      alcohol  quality  \n",
       "0         8.8        6  \n",
       "1         9.5        6  \n",
       "2        10.1        6  \n",
       "3         9.9        6  \n",
       "4         9.9        6  \n",
       "...       ...      ...  \n",
       "4893     11.2        6  \n",
       "4894      9.6        5  \n",
       "4895      9.4        6  \n",
       "4896     12.8        7  \n",
       "4897     11.8        6  \n",
       "\n",
       "[4898 rows x 12 columns]"
      ]
     },
     "execution_count": 4,
     "metadata": {},
     "output_type": "execute_result"
    }
   ],
   "source": [
    "data"
   ]
  },
  {
   "cell_type": "code",
   "execution_count": 5,
   "id": "035f86da-9f28-4c0d-b0c1-c15b9f0e7e14",
   "metadata": {},
   "outputs": [
    {
     "name": "stdout",
     "output_type": "stream",
     "text": [
      "<class 'pandas.core.frame.DataFrame'>\n",
      "RangeIndex: 4898 entries, 0 to 4897\n",
      "Data columns (total 12 columns):\n",
      " #   Column                Non-Null Count  Dtype  \n",
      "---  ------                --------------  -----  \n",
      " 0   fixed acidity         4898 non-null   float64\n",
      " 1   volatile acidity      4898 non-null   float64\n",
      " 2   citric acid           4898 non-null   float64\n",
      " 3   residual sugar        4898 non-null   float64\n",
      " 4   chlorides             4898 non-null   float64\n",
      " 5   free sulfur dioxide   4898 non-null   float64\n",
      " 6   total sulfur dioxide  4898 non-null   float64\n",
      " 7   density               4898 non-null   float64\n",
      " 8   pH                    4898 non-null   float64\n",
      " 9   sulphates             4898 non-null   float64\n",
      " 10  alcohol               4898 non-null   float64\n",
      " 11  quality               4898 non-null   int64  \n",
      "dtypes: float64(11), int64(1)\n",
      "memory usage: 459.3 KB\n"
     ]
    }
   ],
   "source": [
    "data.info()\n"
   ]
  },
  {
   "cell_type": "code",
   "execution_count": 6,
   "id": "d2ab9583-d637-4ee8-95e8-8ceb7d1d3862",
   "metadata": {},
   "outputs": [],
   "source": [
    "y = data['quality']"
   ]
  },
  {
   "cell_type": "code",
   "execution_count": 8,
   "id": "82448c41-7399-4351-9a08-703a7378f82b",
   "metadata": {},
   "outputs": [],
   "source": [
    "X = data.drop(['quality'], axis = 1)"
   ]
  },
  {
   "cell_type": "code",
   "execution_count": 10,
   "id": "03225840-7379-4ddd-8a81-73049635b986",
   "metadata": {},
   "outputs": [],
   "source": [
    "X_train, X_holdout, y_train, y_holdout = train_test_split(X, y, test_size = 0.3, random_state = 17)"
   ]
  },
  {
   "cell_type": "code",
   "execution_count": 11,
   "id": "8397f8d9-7179-4c0e-a2db-62cd208dd625",
   "metadata": {},
   "outputs": [],
   "source": [
    "scaler = StandardScaler()\n",
    "X_train_scaled = scaler.fit_transform(X_train)\n",
    "X_holdout_scaled = scaler.transform(X_holdout)"
   ]
  },
  {
   "cell_type": "markdown",
   "id": "0d7a09d3-d084-4319-9f80-843468b6b1ab",
   "metadata": {},
   "source": [
    "# Linear regression"
   ]
  },
  {
   "cell_type": "code",
   "execution_count": 14,
   "id": "f426ee5a-1b77-40fc-a5c1-2f96d545d966",
   "metadata": {},
   "outputs": [],
   "source": [
    "linreg = LinearRegression().fit(X_train_scaled, y_train)"
   ]
  },
  {
   "cell_type": "markdown",
   "id": "13520173-0945-4dae-965c-bdd2d583c037",
   "metadata": {},
   "source": [
    "**Question 1: What are mean squared errors of model predictions on train and holdout sets?**"
   ]
  },
  {
   "cell_type": "code",
   "execution_count": 19,
   "id": "5b4e6ddf-11e7-47a0-9c9b-91ce8dfa89c9",
   "metadata": {},
   "outputs": [],
   "source": [
    "y_pred_train = linreg.predict(X_train_scaled)"
   ]
  },
  {
   "cell_type": "code",
   "execution_count": 15,
   "id": "76a00168-d00c-4089-a60e-6bfc525edbe5",
   "metadata": {},
   "outputs": [],
   "source": [
    "y_pred = linreg.predict(X_holdout_scaled)"
   ]
  },
  {
   "cell_type": "code",
   "execution_count": 54,
   "id": "60456de4-061c-4a82-af93-81e42b5c5838",
   "metadata": {},
   "outputs": [
    {
     "name": "stdout",
     "output_type": "stream",
     "text": [
      "Mean squared error (train):0.558\n",
      "Mean squared error (test):0.584\n"
     ]
    }
   ],
   "source": [
    "print('Mean squared error (train):%.3f' %mean_squared_error(y_train,y_pred_train))\n",
    "print('Mean squared error (test):%.3f' %mean_squared_error(y_holdout,y_pred))"
   ]
  },
  {
   "cell_type": "markdown",
   "id": "73bba2cf-6ff7-43d8-a466-ff833efacc5f",
   "metadata": {},
   "source": [
    "**Question 2: Which feature this linear regression model treats as the most influential on wine quality?**"
   ]
  },
  {
   "cell_type": "code",
   "execution_count": 37,
   "id": "bf607fc3-03c9-4675-bade-7eb12f8a484a",
   "metadata": {},
   "outputs": [
    {
     "data": {
      "text/html": [
       "<div>\n",
       "<style scoped>\n",
       "    .dataframe tbody tr th:only-of-type {\n",
       "        vertical-align: middle;\n",
       "    }\n",
       "\n",
       "    .dataframe tbody tr th {\n",
       "        vertical-align: top;\n",
       "    }\n",
       "\n",
       "    .dataframe thead th {\n",
       "        text-align: right;\n",
       "    }\n",
       "</style>\n",
       "<table border=\"1\" class=\"dataframe\">\n",
       "  <thead>\n",
       "    <tr style=\"text-align: right;\">\n",
       "      <th></th>\n",
       "      <th>coef</th>\n",
       "      <th>influence</th>\n",
       "    </tr>\n",
       "  </thead>\n",
       "  <tbody>\n",
       "    <tr>\n",
       "      <th>density</th>\n",
       "      <td>-0.665720</td>\n",
       "      <td>0.665720</td>\n",
       "    </tr>\n",
       "    <tr>\n",
       "      <th>residual sugar</th>\n",
       "      <td>0.538164</td>\n",
       "      <td>0.538164</td>\n",
       "    </tr>\n",
       "    <tr>\n",
       "      <th>volatile acidity</th>\n",
       "      <td>-0.192260</td>\n",
       "      <td>0.192260</td>\n",
       "    </tr>\n",
       "    <tr>\n",
       "      <th>pH</th>\n",
       "      <td>0.150036</td>\n",
       "      <td>0.150036</td>\n",
       "    </tr>\n",
       "    <tr>\n",
       "      <th>alcohol</th>\n",
       "      <td>0.129533</td>\n",
       "      <td>0.129533</td>\n",
       "    </tr>\n",
       "    <tr>\n",
       "      <th>fixed acidity</th>\n",
       "      <td>0.097822</td>\n",
       "      <td>0.097822</td>\n",
       "    </tr>\n",
       "    <tr>\n",
       "      <th>sulphates</th>\n",
       "      <td>0.062053</td>\n",
       "      <td>0.062053</td>\n",
       "    </tr>\n",
       "    <tr>\n",
       "      <th>free sulfur dioxide</th>\n",
       "      <td>0.042180</td>\n",
       "      <td>0.042180</td>\n",
       "    </tr>\n",
       "    <tr>\n",
       "      <th>total sulfur dioxide</th>\n",
       "      <td>0.014304</td>\n",
       "      <td>0.014304</td>\n",
       "    </tr>\n",
       "    <tr>\n",
       "      <th>chlorides</th>\n",
       "      <td>0.008127</td>\n",
       "      <td>0.008127</td>\n",
       "    </tr>\n",
       "    <tr>\n",
       "      <th>citric acid</th>\n",
       "      <td>-0.000183</td>\n",
       "      <td>0.000183</td>\n",
       "    </tr>\n",
       "  </tbody>\n",
       "</table>\n",
       "</div>"
      ],
      "text/plain": [
       "                          coef  influence\n",
       "density              -0.665720   0.665720\n",
       "residual sugar        0.538164   0.538164\n",
       "volatile acidity     -0.192260   0.192260\n",
       "pH                    0.150036   0.150036\n",
       "alcohol               0.129533   0.129533\n",
       "fixed acidity         0.097822   0.097822\n",
       "sulphates             0.062053   0.062053\n",
       "free sulfur dioxide   0.042180   0.042180\n",
       "total sulfur dioxide  0.014304   0.014304\n",
       "chlorides             0.008127   0.008127\n",
       "citric acid          -0.000183   0.000183"
      ]
     },
     "execution_count": 37,
     "metadata": {},
     "output_type": "execute_result"
    }
   ],
   "source": [
    "linreg_coef = pd.DataFrame({'coef': linreg.coef_, 'influence' : np.abs(linreg.coef_)},\n",
    "                           index = X.columns)\n",
    "linreg_coef.sort_values(by = 'influence', ascending=False)"
   ]
  },
  {
   "cell_type": "markdown",
   "id": "0c4ef6b3-1464-4d22-98c0-539ac38c3e4a",
   "metadata": {},
   "source": [
    "# Lasso regression"
   ]
  },
  {
   "cell_type": "markdown",
   "id": "39e3798f-bd3a-43b8-868a-ec88d0c7e4f7",
   "metadata": {},
   "source": [
    "**Train a LASSO model with alpha = 0.01 (weak regularization) and scaled data. Again, set random_state=17**"
   ]
  },
  {
   "cell_type": "code",
   "execution_count": 39,
   "id": "c1a15102-a9cf-4f4d-9a9e-f0ace4d3418f",
   "metadata": {},
   "outputs": [],
   "source": [
    "lasso1 = Lasso(alpha = 0.01).fit(X_train_scaled, y_train)"
   ]
  },
  {
   "cell_type": "markdown",
   "id": "6c76f888-1d5c-4ecb-a630-dcfa285a9a21",
   "metadata": {},
   "source": [
    "**Which feature is the least informative in predicting wine quality, according to this LASSO model?**"
   ]
  },
  {
   "cell_type": "code",
   "execution_count": 40,
   "id": "42c6f019-1a56-4d06-b489-1b8f11ffa4d4",
   "metadata": {},
   "outputs": [
    {
     "data": {
      "text/html": [
       "<div>\n",
       "<style scoped>\n",
       "    .dataframe tbody tr th:only-of-type {\n",
       "        vertical-align: middle;\n",
       "    }\n",
       "\n",
       "    .dataframe tbody tr th {\n",
       "        vertical-align: top;\n",
       "    }\n",
       "\n",
       "    .dataframe thead th {\n",
       "        text-align: right;\n",
       "    }\n",
       "</style>\n",
       "<table border=\"1\" class=\"dataframe\">\n",
       "  <thead>\n",
       "    <tr style=\"text-align: right;\">\n",
       "      <th></th>\n",
       "      <th>coef</th>\n",
       "      <th>informative</th>\n",
       "    </tr>\n",
       "  </thead>\n",
       "  <tbody>\n",
       "    <tr>\n",
       "      <th>fixed acidity</th>\n",
       "      <td>-0.000000</td>\n",
       "      <td>0.000000</td>\n",
       "    </tr>\n",
       "    <tr>\n",
       "      <th>citric acid</th>\n",
       "      <td>-0.000000</td>\n",
       "      <td>0.000000</td>\n",
       "    </tr>\n",
       "    <tr>\n",
       "      <th>total sulfur dioxide</th>\n",
       "      <td>-0.000000</td>\n",
       "      <td>0.000000</td>\n",
       "    </tr>\n",
       "    <tr>\n",
       "      <th>chlorides</th>\n",
       "      <td>-0.002747</td>\n",
       "      <td>0.002747</td>\n",
       "    </tr>\n",
       "    <tr>\n",
       "      <th>sulphates</th>\n",
       "      <td>0.029722</td>\n",
       "      <td>0.029722</td>\n",
       "    </tr>\n",
       "    <tr>\n",
       "      <th>free sulfur dioxide</th>\n",
       "      <td>0.043088</td>\n",
       "      <td>0.043088</td>\n",
       "    </tr>\n",
       "    <tr>\n",
       "      <th>pH</th>\n",
       "      <td>0.067277</td>\n",
       "      <td>0.067277</td>\n",
       "    </tr>\n",
       "    <tr>\n",
       "      <th>volatile acidity</th>\n",
       "      <td>-0.188479</td>\n",
       "      <td>0.188479</td>\n",
       "    </tr>\n",
       "    <tr>\n",
       "      <th>density</th>\n",
       "      <td>-0.235492</td>\n",
       "      <td>0.235492</td>\n",
       "    </tr>\n",
       "    <tr>\n",
       "      <th>residual sugar</th>\n",
       "      <td>0.256363</td>\n",
       "      <td>0.256363</td>\n",
       "    </tr>\n",
       "    <tr>\n",
       "      <th>alcohol</th>\n",
       "      <td>0.322425</td>\n",
       "      <td>0.322425</td>\n",
       "    </tr>\n",
       "  </tbody>\n",
       "</table>\n",
       "</div>"
      ],
      "text/plain": [
       "                          coef  informative\n",
       "fixed acidity        -0.000000     0.000000\n",
       "citric acid          -0.000000     0.000000\n",
       "total sulfur dioxide -0.000000     0.000000\n",
       "chlorides            -0.002747     0.002747\n",
       "sulphates             0.029722     0.029722\n",
       "free sulfur dioxide   0.043088     0.043088\n",
       "pH                    0.067277     0.067277\n",
       "volatile acidity     -0.188479     0.188479\n",
       "density              -0.235492     0.235492\n",
       "residual sugar        0.256363     0.256363\n",
       "alcohol               0.322425     0.322425"
      ]
     },
     "execution_count": 40,
     "metadata": {},
     "output_type": "execute_result"
    }
   ],
   "source": [
    "lasso1_coef = pd.DataFrame({'coef': lasso1.coef_, 'informative' : np.abs(lasso1.coef_)},\n",
    "                           index = X.columns)\n",
    "lasso1_coef.sort_values(by = 'informative', ascending=True)"
   ]
  },
  {
   "cell_type": "markdown",
   "id": "5944fece-cf89-48eb-9da9-525b7baa598d",
   "metadata": {},
   "source": [
    "**Train LassoCV with random_state=17 to choose the best value of alpha in 5-fold cross-validation**"
   ]
  },
  {
   "cell_type": "code",
   "execution_count": 41,
   "id": "087c8020-7139-4645-a34e-3936ba5106d9",
   "metadata": {},
   "outputs": [],
   "source": [
    "alphas = np.logspace(-6, 2, 200)"
   ]
  },
  {
   "cell_type": "code",
   "execution_count": 61,
   "id": "09b225d3-1648-42dc-ad5d-440a0e713511",
   "metadata": {},
   "outputs": [],
   "source": [
    "lasso_cv = LassoCV(cv=5, alphas = alphas, random_state=17).fit(X_train_scaled, y_train)"
   ]
  },
  {
   "cell_type": "code",
   "execution_count": 62,
   "id": "583f9b4f-395e-485b-a934-ba80b320db94",
   "metadata": {},
   "outputs": [
    {
     "data": {
      "text/plain": [
       "0.0002833096101839324"
      ]
     },
     "execution_count": 62,
     "metadata": {},
     "output_type": "execute_result"
    }
   ],
   "source": [
    "lasso_cv.alpha_"
   ]
  },
  {
   "cell_type": "markdown",
   "id": "dcd4c6ad-3c08-408b-8c5f-7bbc81c29bfb",
   "metadata": {},
   "source": [
    "**Question 3: Which feature is the least informative in predicting wine quality, according to the tuned LASSO model?**"
   ]
  },
  {
   "cell_type": "code",
   "execution_count": 63,
   "id": "a41adc1f-d852-4a50-b6ed-fc1b0897430b",
   "metadata": {},
   "outputs": [
    {
     "data": {
      "text/html": [
       "<div>\n",
       "<style scoped>\n",
       "    .dataframe tbody tr th:only-of-type {\n",
       "        vertical-align: middle;\n",
       "    }\n",
       "\n",
       "    .dataframe tbody tr th {\n",
       "        vertical-align: top;\n",
       "    }\n",
       "\n",
       "    .dataframe thead th {\n",
       "        text-align: right;\n",
       "    }\n",
       "</style>\n",
       "<table border=\"1\" class=\"dataframe\">\n",
       "  <thead>\n",
       "    <tr style=\"text-align: right;\">\n",
       "      <th></th>\n",
       "      <th>coef</th>\n",
       "      <th>informative</th>\n",
       "    </tr>\n",
       "  </thead>\n",
       "  <tbody>\n",
       "    <tr>\n",
       "      <th>citric acid</th>\n",
       "      <td>-0.000000</td>\n",
       "      <td>0.000000</td>\n",
       "    </tr>\n",
       "    <tr>\n",
       "      <th>chlorides</th>\n",
       "      <td>0.006933</td>\n",
       "      <td>0.006933</td>\n",
       "    </tr>\n",
       "    <tr>\n",
       "      <th>total sulfur dioxide</th>\n",
       "      <td>0.012969</td>\n",
       "      <td>0.012969</td>\n",
       "    </tr>\n",
       "    <tr>\n",
       "      <th>free sulfur dioxide</th>\n",
       "      <td>0.042698</td>\n",
       "      <td>0.042698</td>\n",
       "    </tr>\n",
       "    <tr>\n",
       "      <th>sulphates</th>\n",
       "      <td>0.060939</td>\n",
       "      <td>0.060939</td>\n",
       "    </tr>\n",
       "    <tr>\n",
       "      <th>fixed acidity</th>\n",
       "      <td>0.093295</td>\n",
       "      <td>0.093295</td>\n",
       "    </tr>\n",
       "    <tr>\n",
       "      <th>alcohol</th>\n",
       "      <td>0.137115</td>\n",
       "      <td>0.137115</td>\n",
       "    </tr>\n",
       "    <tr>\n",
       "      <th>pH</th>\n",
       "      <td>0.146549</td>\n",
       "      <td>0.146549</td>\n",
       "    </tr>\n",
       "    <tr>\n",
       "      <th>volatile acidity</th>\n",
       "      <td>-0.192049</td>\n",
       "      <td>0.192049</td>\n",
       "    </tr>\n",
       "    <tr>\n",
       "      <th>residual sugar</th>\n",
       "      <td>0.526883</td>\n",
       "      <td>0.526883</td>\n",
       "    </tr>\n",
       "    <tr>\n",
       "      <th>density</th>\n",
       "      <td>-0.648161</td>\n",
       "      <td>0.648161</td>\n",
       "    </tr>\n",
       "  </tbody>\n",
       "</table>\n",
       "</div>"
      ],
      "text/plain": [
       "                          coef  informative\n",
       "citric acid          -0.000000     0.000000\n",
       "chlorides             0.006933     0.006933\n",
       "total sulfur dioxide  0.012969     0.012969\n",
       "free sulfur dioxide   0.042698     0.042698\n",
       "sulphates             0.060939     0.060939\n",
       "fixed acidity         0.093295     0.093295\n",
       "alcohol               0.137115     0.137115\n",
       "pH                    0.146549     0.146549\n",
       "volatile acidity     -0.192049     0.192049\n",
       "residual sugar        0.526883     0.526883\n",
       "density              -0.648161     0.648161"
      ]
     },
     "execution_count": 63,
     "metadata": {},
     "output_type": "execute_result"
    }
   ],
   "source": [
    "lasso_cv_coef = pd.DataFrame({'coef': lasso_cv.coef_, 'informative' : np.abs(lasso_cv.coef_)},\n",
    "                           index = X.columns)\n",
    "lasso_cv_coef.sort_values(by = 'informative', ascending=True)"
   ]
  },
  {
   "cell_type": "markdown",
   "id": "f11427cf-be10-4c08-a48f-ba6d6c693c6f",
   "metadata": {},
   "source": [
    "**Question 4: What are mean squared errors of tuned LASSO predictions on train and holdout sets?**"
   ]
  },
  {
   "cell_type": "code",
   "execution_count": 53,
   "id": "75203f39-c254-4441-82a8-04469f5f8f2a",
   "metadata": {},
   "outputs": [
    {
     "name": "stdout",
     "output_type": "stream",
     "text": [
      "Mean squared error (train):0.558\n",
      "Mean squared error (test):0.583\n"
     ]
    }
   ],
   "source": [
    "print('Mean squared error (train):%.3f' %mean_squared_error(y_train,lasso_cv.predict(X_train_scaled)))\n",
    "print('Mean squared error (test):%.3f' %mean_squared_error(y_holdout,lasso_cv.predict(X_holdout_scaled)))"
   ]
  },
  {
   "cell_type": "markdown",
   "id": "5b4b0e2f-141c-4bbb-9e5e-328fce01babf",
   "metadata": {},
   "source": [
    "# Random Forest"
   ]
  },
  {
   "cell_type": "code",
   "execution_count": 60,
   "id": "252da2bf-1894-48dc-9d67-c2f1bc1d5aa7",
   "metadata": {},
   "outputs": [],
   "source": [
    "forest = RandomForestRegressor(random_state=17).fit(X_train_scaled, y_train)"
   ]
  },
  {
   "cell_type": "code",
   "execution_count": 68,
   "id": "44dda03f-e8e5-459c-b42f-5c2da1c31895",
   "metadata": {},
   "outputs": [
    {
     "name": "stdout",
     "output_type": "stream",
     "text": [
      "Mean squared error (train): 0.053\n",
      "Mean squared error (cv): 0.414\n",
      "Mean squared error (test): 0.372\n"
     ]
    }
   ],
   "source": [
    "print('Mean squared error (train): %.3f' %mean_squared_error(y_train,forest.predict(X_train_scaled)))\n",
    "print(\"Mean squared error (cv): %.3f\" %(np.abs(cross_val_score(forest, X_train_scaled, y_train, scoring='neg_mean_squared_error'))).mean())\n",
    "print('Mean squared error (test): %.3f' %mean_squared_error(y_holdout,forest.predict(X_holdout_scaled)))"
   ]
  },
  {
   "cell_type": "markdown",
   "id": "a9dd314b-63be-4f7f-a2ba-e2a18f4d3059",
   "metadata": {},
   "source": [
    "**Tune the max_features and max_depth hyperparameters with GridSearchCV and again check mean cross-validation MSE and MSE on holdout set.**"
   ]
  },
  {
   "cell_type": "code",
   "execution_count": 70,
   "id": "f8a02eba-cdde-4519-9856-7a8c2a8afd43",
   "metadata": {},
   "outputs": [
    {
     "data": {
      "text/plain": [
       "GridSearchCV(estimator=RandomForestRegressor(random_state=17), n_jobs=-1,\n",
       "             param_grid={'max_depth': [10, 11, 12, 13, 14, 15, 16, 17, 18, 19,\n",
       "                                       20, 21, 22, 23, 24],\n",
       "                         'max_features': [6, 7, 8, 9, 10, 11]})"
      ]
     },
     "execution_count": 70,
     "metadata": {},
     "output_type": "execute_result"
    }
   ],
   "source": [
    "forest_params = {'max_depth': list(range(10, 25)),\n",
    "                'max_features': list(range(6,12))}\n",
    "\n",
    "locally_best_forest = GridSearchCV(forest, param_grid = forest_params, n_jobs=-1)\n",
    "locally_best_forest.fit(X_train_scaled, y_train)"
   ]
  },
  {
   "cell_type": "code",
   "execution_count": 71,
   "id": "8d416759-b17e-40ef-996c-03bd69163536",
   "metadata": {},
   "outputs": [
    {
     "data": {
      "text/plain": [
       "({'max_depth': 21, 'max_features': 6}, 0.4939384585901731)"
      ]
     },
     "execution_count": 71,
     "metadata": {},
     "output_type": "execute_result"
    }
   ],
   "source": [
    "locally_best_forest.best_params_, locally_best_forest.best_score_"
   ]
  },
  {
   "cell_type": "markdown",
   "id": "33f2efb4-dc8d-4518-abc1-a6a6e00ccbc2",
   "metadata": {},
   "source": [
    "**Question 6: What are mean squared errors of tuned RF model in cross-validation (cross_val_score with scoring=’neg_mean_squared_error’ and other arguments left with default values) and on holdout set?**"
   ]
  },
  {
   "cell_type": "code",
   "execution_count": 72,
   "id": "6881f335-d660-447e-829b-34b509ab7b5b",
   "metadata": {},
   "outputs": [],
   "source": [
    "tuned_forest = locally_best_forest.best_estimator_"
   ]
  },
  {
   "cell_type": "code",
   "execution_count": 73,
   "id": "4086c732-b03d-4afd-9b58-15392c07d1c4",
   "metadata": {},
   "outputs": [
    {
     "name": "stdout",
     "output_type": "stream",
     "text": [
      "Mean squared error (train): 0.054\n",
      "Mean squared error (cv): 0.398\n",
      "Mean squared error (test): 0.366\n"
     ]
    }
   ],
   "source": [
    "print('Mean squared error (train): %.3f' %mean_squared_error(y_train,tuned_forest.predict(X_train_scaled)))\n",
    "print(\"Mean squared error (cv): %.3f\" %(np.abs(cross_val_score(tuned_forest, X_train_scaled, y_train, scoring='neg_mean_squared_error'))).mean())\n",
    "print('Mean squared error (test): %.3f' %mean_squared_error(y_holdout,tuned_forest.predict(X_holdout_scaled)))"
   ]
  },
  {
   "cell_type": "markdown",
   "id": "7dc00c1a-b63a-4ef0-b53b-e479befffbdc",
   "metadata": {},
   "source": [
    "**Question 7: What is the most important feature, according to the Random Forest model?**"
   ]
  },
  {
   "cell_type": "code",
   "execution_count": 75,
   "id": "e1113990-0f45-464a-9e3d-bf759d7ce699",
   "metadata": {},
   "outputs": [
    {
     "data": {
      "text/html": [
       "<div>\n",
       "<style scoped>\n",
       "    .dataframe tbody tr th:only-of-type {\n",
       "        vertical-align: middle;\n",
       "    }\n",
       "\n",
       "    .dataframe tbody tr th {\n",
       "        vertical-align: top;\n",
       "    }\n",
       "\n",
       "    .dataframe thead th {\n",
       "        text-align: right;\n",
       "    }\n",
       "</style>\n",
       "<table border=\"1\" class=\"dataframe\">\n",
       "  <thead>\n",
       "    <tr style=\"text-align: right;\">\n",
       "      <th></th>\n",
       "      <th>importance</th>\n",
       "    </tr>\n",
       "  </thead>\n",
       "  <tbody>\n",
       "    <tr>\n",
       "      <th>alcohol</th>\n",
       "      <td>0.206056</td>\n",
       "    </tr>\n",
       "    <tr>\n",
       "      <th>volatile acidity</th>\n",
       "      <td>0.117578</td>\n",
       "    </tr>\n",
       "    <tr>\n",
       "      <th>free sulfur dioxide</th>\n",
       "      <td>0.111556</td>\n",
       "    </tr>\n",
       "    <tr>\n",
       "      <th>density</th>\n",
       "      <td>0.088549</td>\n",
       "    </tr>\n",
       "    <tr>\n",
       "      <th>pH</th>\n",
       "      <td>0.073659</td>\n",
       "    </tr>\n",
       "    <tr>\n",
       "      <th>total sulfur dioxide</th>\n",
       "      <td>0.073640</td>\n",
       "    </tr>\n",
       "    <tr>\n",
       "      <th>chlorides</th>\n",
       "      <td>0.073366</td>\n",
       "    </tr>\n",
       "    <tr>\n",
       "      <th>residual sugar</th>\n",
       "      <td>0.072072</td>\n",
       "    </tr>\n",
       "    <tr>\n",
       "      <th>citric acid</th>\n",
       "      <td>0.062601</td>\n",
       "    </tr>\n",
       "    <tr>\n",
       "      <th>fixed acidity</th>\n",
       "      <td>0.061813</td>\n",
       "    </tr>\n",
       "    <tr>\n",
       "      <th>sulphates</th>\n",
       "      <td>0.059111</td>\n",
       "    </tr>\n",
       "  </tbody>\n",
       "</table>\n",
       "</div>"
      ],
      "text/plain": [
       "                      importance\n",
       "alcohol                 0.206056\n",
       "volatile acidity        0.117578\n",
       "free sulfur dioxide     0.111556\n",
       "density                 0.088549\n",
       "pH                      0.073659\n",
       "total sulfur dioxide    0.073640\n",
       "chlorides               0.073366\n",
       "residual sugar          0.072072\n",
       "citric acid             0.062601\n",
       "fixed acidity           0.061813\n",
       "sulphates               0.059111"
      ]
     },
     "execution_count": 75,
     "metadata": {},
     "output_type": "execute_result"
    }
   ],
   "source": [
    "rf_importance = pd.DataFrame({'importance': tuned_forest.feature_importances_},\n",
    "                           index = X.columns)\n",
    "rf_importance.sort_values(by = 'importance', ascending=False)"
   ]
  },
  {
   "cell_type": "code",
   "execution_count": null,
   "id": "5c13c73b-4d07-4eee-abec-508bd45f1fd9",
   "metadata": {},
   "outputs": [],
   "source": []
  }
 ],
 "metadata": {
  "kernelspec": {
   "display_name": "Python 3",
   "language": "python",
   "name": "python3"
  },
  "language_info": {
   "codemirror_mode": {
    "name": "ipython",
    "version": 3
   },
   "file_extension": ".py",
   "mimetype": "text/x-python",
   "name": "python",
   "nbconvert_exporter": "python",
   "pygments_lexer": "ipython3",
   "version": "3.8.8"
  }
 },
 "nbformat": 4,
 "nbformat_minor": 5
}
