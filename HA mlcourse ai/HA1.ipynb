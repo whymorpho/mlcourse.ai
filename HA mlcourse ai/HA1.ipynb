{
 "cells": [
  {
   "cell_type": "code",
   "execution_count": 1,
   "id": "e308d01f-9fe4-4e33-8629-d9faa3d9038c",
   "metadata": {},
   "outputs": [],
   "source": [
    "import numpy as np\n",
    "import pandas as pd\n",
    "\n",
    "%matplotlib inline\n",
    "\n",
    "import matplotlib.pyplot as plt\n",
    "import seaborn as sns"
   ]
  },
  {
   "cell_type": "code",
   "execution_count": 2,
   "id": "1be410f4-062f-41c6-b6e1-d17a586c19c4",
   "metadata": {},
   "outputs": [],
   "source": [
    "DATA_URL = \"https://raw.githubusercontent.com/Yorko/mlcourse.ai/master/data/\""
   ]
  },
  {
   "cell_type": "code",
   "execution_count": 3,
   "id": "e071218f-e073-4612-90d5-b7d2381dc680",
   "metadata": {},
   "outputs": [
    {
     "data": {
      "text/html": [
       "<div>\n",
       "<style scoped>\n",
       "    .dataframe tbody tr th:only-of-type {\n",
       "        vertical-align: middle;\n",
       "    }\n",
       "\n",
       "    .dataframe tbody tr th {\n",
       "        vertical-align: top;\n",
       "    }\n",
       "\n",
       "    .dataframe thead th {\n",
       "        text-align: right;\n",
       "    }\n",
       "</style>\n",
       "<table border=\"1\" class=\"dataframe\">\n",
       "  <thead>\n",
       "    <tr style=\"text-align: right;\">\n",
       "      <th></th>\n",
       "      <th>age</th>\n",
       "      <th>workclass</th>\n",
       "      <th>fnlwgt</th>\n",
       "      <th>education</th>\n",
       "      <th>education-num</th>\n",
       "      <th>marital-status</th>\n",
       "      <th>occupation</th>\n",
       "      <th>relationship</th>\n",
       "      <th>race</th>\n",
       "      <th>sex</th>\n",
       "      <th>capital-gain</th>\n",
       "      <th>capital-loss</th>\n",
       "      <th>hours-per-week</th>\n",
       "      <th>native-country</th>\n",
       "      <th>salary</th>\n",
       "    </tr>\n",
       "  </thead>\n",
       "  <tbody>\n",
       "    <tr>\n",
       "      <th>0</th>\n",
       "      <td>39</td>\n",
       "      <td>State-gov</td>\n",
       "      <td>77516</td>\n",
       "      <td>Bachelors</td>\n",
       "      <td>13</td>\n",
       "      <td>Never-married</td>\n",
       "      <td>Adm-clerical</td>\n",
       "      <td>Not-in-family</td>\n",
       "      <td>White</td>\n",
       "      <td>Male</td>\n",
       "      <td>2174</td>\n",
       "      <td>0</td>\n",
       "      <td>40</td>\n",
       "      <td>United-States</td>\n",
       "      <td>&lt;=50K</td>\n",
       "    </tr>\n",
       "    <tr>\n",
       "      <th>1</th>\n",
       "      <td>50</td>\n",
       "      <td>Self-emp-not-inc</td>\n",
       "      <td>83311</td>\n",
       "      <td>Bachelors</td>\n",
       "      <td>13</td>\n",
       "      <td>Married-civ-spouse</td>\n",
       "      <td>Exec-managerial</td>\n",
       "      <td>Husband</td>\n",
       "      <td>White</td>\n",
       "      <td>Male</td>\n",
       "      <td>0</td>\n",
       "      <td>0</td>\n",
       "      <td>13</td>\n",
       "      <td>United-States</td>\n",
       "      <td>&lt;=50K</td>\n",
       "    </tr>\n",
       "    <tr>\n",
       "      <th>2</th>\n",
       "      <td>38</td>\n",
       "      <td>Private</td>\n",
       "      <td>215646</td>\n",
       "      <td>HS-grad</td>\n",
       "      <td>9</td>\n",
       "      <td>Divorced</td>\n",
       "      <td>Handlers-cleaners</td>\n",
       "      <td>Not-in-family</td>\n",
       "      <td>White</td>\n",
       "      <td>Male</td>\n",
       "      <td>0</td>\n",
       "      <td>0</td>\n",
       "      <td>40</td>\n",
       "      <td>United-States</td>\n",
       "      <td>&lt;=50K</td>\n",
       "    </tr>\n",
       "    <tr>\n",
       "      <th>3</th>\n",
       "      <td>53</td>\n",
       "      <td>Private</td>\n",
       "      <td>234721</td>\n",
       "      <td>11th</td>\n",
       "      <td>7</td>\n",
       "      <td>Married-civ-spouse</td>\n",
       "      <td>Handlers-cleaners</td>\n",
       "      <td>Husband</td>\n",
       "      <td>Black</td>\n",
       "      <td>Male</td>\n",
       "      <td>0</td>\n",
       "      <td>0</td>\n",
       "      <td>40</td>\n",
       "      <td>United-States</td>\n",
       "      <td>&lt;=50K</td>\n",
       "    </tr>\n",
       "    <tr>\n",
       "      <th>4</th>\n",
       "      <td>28</td>\n",
       "      <td>Private</td>\n",
       "      <td>338409</td>\n",
       "      <td>Bachelors</td>\n",
       "      <td>13</td>\n",
       "      <td>Married-civ-spouse</td>\n",
       "      <td>Prof-specialty</td>\n",
       "      <td>Wife</td>\n",
       "      <td>Black</td>\n",
       "      <td>Female</td>\n",
       "      <td>0</td>\n",
       "      <td>0</td>\n",
       "      <td>40</td>\n",
       "      <td>Cuba</td>\n",
       "      <td>&lt;=50K</td>\n",
       "    </tr>\n",
       "  </tbody>\n",
       "</table>\n",
       "</div>"
      ],
      "text/plain": [
       "   age         workclass  fnlwgt  education  education-num  \\\n",
       "0   39         State-gov   77516  Bachelors             13   \n",
       "1   50  Self-emp-not-inc   83311  Bachelors             13   \n",
       "2   38           Private  215646    HS-grad              9   \n",
       "3   53           Private  234721       11th              7   \n",
       "4   28           Private  338409  Bachelors             13   \n",
       "\n",
       "       marital-status         occupation   relationship   race     sex  \\\n",
       "0       Never-married       Adm-clerical  Not-in-family  White    Male   \n",
       "1  Married-civ-spouse    Exec-managerial        Husband  White    Male   \n",
       "2            Divorced  Handlers-cleaners  Not-in-family  White    Male   \n",
       "3  Married-civ-spouse  Handlers-cleaners        Husband  Black    Male   \n",
       "4  Married-civ-spouse     Prof-specialty           Wife  Black  Female   \n",
       "\n",
       "   capital-gain  capital-loss  hours-per-week native-country salary  \n",
       "0          2174             0              40  United-States  <=50K  \n",
       "1             0             0              13  United-States  <=50K  \n",
       "2             0             0              40  United-States  <=50K  \n",
       "3             0             0              40  United-States  <=50K  \n",
       "4             0             0              40           Cuba  <=50K  "
      ]
     },
     "execution_count": 3,
     "metadata": {},
     "output_type": "execute_result"
    }
   ],
   "source": [
    "data = pd.read_csv(DATA_URL + \"adult.data.csv\")\n",
    "data.head()"
   ]
  },
  {
   "cell_type": "markdown",
   "id": "6c2417c0-a2a3-406b-8968-735a7490a7b9",
   "metadata": {},
   "source": [
    "**1. How many men and women (sex feature) are represented in this dataset?**"
   ]
  },
  {
   "cell_type": "code",
   "execution_count": 9,
   "id": "febda6aa-6de5-4477-a155-f99aebdd9925",
   "metadata": {},
   "outputs": [
    {
     "data": {
      "text/plain": [
       "Male      21790\n",
       "Female    10771\n",
       "Name: sex, dtype: int64"
      ]
     },
     "execution_count": 9,
     "metadata": {},
     "output_type": "execute_result"
    }
   ],
   "source": [
    "data['sex'].value_counts()"
   ]
  },
  {
   "cell_type": "code",
   "execution_count": 13,
   "id": "64c6f112-6f49-489c-85fd-825dd5871383",
   "metadata": {},
   "outputs": [
    {
     "data": {
      "text/plain": [
       "Male      0.669205\n",
       "Female    0.330795\n",
       "Name: sex, dtype: float64"
      ]
     },
     "execution_count": 13,
     "metadata": {},
     "output_type": "execute_result"
    }
   ],
   "source": [
    "data['sex'].value_counts(normalize = True)"
   ]
  },
  {
   "cell_type": "markdown",
   "id": "c5a2422e-a917-404d-94d7-769f5d10b1d6",
   "metadata": {},
   "source": [
    "**2. What is the average age (age feature) of women?**"
   ]
  },
  {
   "cell_type": "code",
   "execution_count": 15,
   "id": "a2b4bd74-ab9c-4428-ada8-c683286aa624",
   "metadata": {},
   "outputs": [
    {
     "data": {
      "text/plain": [
       "36.85823043357163"
      ]
     },
     "execution_count": 15,
     "metadata": {},
     "output_type": "execute_result"
    }
   ],
   "source": [
    "data[data['sex'] == 'Female']['age'].mean()"
   ]
  },
  {
   "cell_type": "markdown",
   "id": "fecbe163-566a-47b2-9062-ca07ef2d2b1f",
   "metadata": {},
   "source": [
    "**3. What is the percentage of German citizens (native-country feature)?**"
   ]
  },
  {
   "cell_type": "code",
   "execution_count": 24,
   "id": "ad2720ff-d7a5-472e-bf4d-d9b8c6295be8",
   "metadata": {},
   "outputs": [
    {
     "data": {
      "text/plain": [
       "0.42074874850281013"
      ]
     },
     "execution_count": 24,
     "metadata": {},
     "output_type": "execute_result"
    }
   ],
   "source": [
    "len(data[data['native-country'] == 'Germany'])/len(data) * 100 #0,42%"
   ]
  },
  {
   "cell_type": "markdown",
   "id": "4a3a301c-6e0a-41bc-890d-59c39f13a4a0",
   "metadata": {},
   "source": [
    "**4-5. What are the mean and standard deviation of age for those who earn more than 50K per year (salary feature) and those who earn less than 50K per year?**"
   ]
  },
  {
   "cell_type": "code",
   "execution_count": 28,
   "id": "8e3d1fdd-d679-406a-b4c1-5aa82dfe6bbc",
   "metadata": {},
   "outputs": [
    {
     "data": {
      "text/plain": [
       "44.24984058155847"
      ]
     },
     "execution_count": 28,
     "metadata": {},
     "output_type": "execute_result"
    }
   ],
   "source": [
    "data[data['salary'] == '>50K']['age'].mean()"
   ]
  },
  {
   "cell_type": "code",
   "execution_count": 29,
   "id": "a128f89b-dabd-49be-90ef-b76c6ce858cb",
   "metadata": {},
   "outputs": [
    {
     "data": {
      "text/plain": [
       "10.51902771985177"
      ]
     },
     "execution_count": 29,
     "metadata": {},
     "output_type": "execute_result"
    }
   ],
   "source": [
    "data[data['salary'] == '>50K']['age'].std()"
   ]
  },
  {
   "cell_type": "code",
   "execution_count": 31,
   "id": "e809de7c-bb18-4125-8495-45f1bc8157c0",
   "metadata": {},
   "outputs": [
    {
     "data": {
      "text/plain": [
       "36.78373786407767"
      ]
     },
     "execution_count": 31,
     "metadata": {},
     "output_type": "execute_result"
    }
   ],
   "source": [
    "data[data['salary'] == '<=50K']['age'].mean()"
   ]
  },
  {
   "cell_type": "code",
   "execution_count": 32,
   "id": "f3b6785e-ac4c-4f4f-98e0-af151a06ff7b",
   "metadata": {},
   "outputs": [
    {
     "data": {
      "text/plain": [
       "14.020088490824813"
      ]
     },
     "execution_count": 32,
     "metadata": {},
     "output_type": "execute_result"
    }
   ],
   "source": [
    "data[data['salary'] == '<=50K']['age'].std()"
   ]
  },
  {
   "cell_type": "markdown",
   "id": "52ab2878-77fa-4e7b-afb4-b0586c65f6f4",
   "metadata": {},
   "source": [
    "**6. Is it true that people who earn more than 50K have at least high school education? (education – Bachelors, Prof-school, Assoc-acdm, Assoc-voc, Masters or Doctorate feature)**"
   ]
  },
  {
   "cell_type": "code",
   "execution_count": 37,
   "id": "08cbf63c-29d2-41a8-a9a1-2dd8b54fbba8",
   "metadata": {},
   "outputs": [
    {
     "data": {
      "image/png": "[encoded data removed]",
      "text/plain": [
       "<Figure size 432x288 with 1 Axes>"
      ]
     },
     "metadata": {
      "needs_background": "light"
     },
     "output_type": "display_data"
    }
   ],
   "source": [
    "data[data['salary'] == '>50K']['education'].hist()\n",
    "plt.xticks(rotation=90)\n",
    "plt.show() #no,there are people who earn more than 50K without high education"
   ]
  },
  {
   "cell_type": "markdown",
   "id": "26038dfb-5d2f-4121-a790-37eedfb2d462",
   "metadata": {},
   "source": [
    "**7. Display age statistics for each race (race feature) and each gender (sex feature). Use groupby() and describe(). Find the maximum age of men of Amer-Indian-Eskimo race.**"
   ]
  },
  {
   "cell_type": "code",
   "execution_count": 195,
   "id": "759634b6-66b1-4493-b625-8eb662b3bf25",
   "metadata": {},
   "outputs": [
    {
     "data": {
      "text/html": [
       "<div>\n",
       "<style scoped>\n",
       "    .dataframe tbody tr th:only-of-type {\n",
       "        vertical-align: middle;\n",
       "    }\n",
       "\n",
       "    .dataframe tbody tr th {\n",
       "        vertical-align: top;\n",
       "    }\n",
       "\n",
       "    .dataframe thead th {\n",
       "        text-align: right;\n",
       "    }\n",
       "</style>\n",
       "<table border=\"1\" class=\"dataframe\">\n",
       "  <thead>\n",
       "    <tr style=\"text-align: right;\">\n",
       "      <th></th>\n",
       "      <th>count</th>\n",
       "      <th>mean</th>\n",
       "      <th>std</th>\n",
       "      <th>min</th>\n",
       "      <th>25%</th>\n",
       "      <th>50%</th>\n",
       "      <th>75%</th>\n",
       "      <th>max</th>\n",
       "    </tr>\n",
       "    <tr>\n",
       "      <th>race</th>\n",
       "      <th></th>\n",
       "      <th></th>\n",
       "      <th></th>\n",
       "      <th></th>\n",
       "      <th></th>\n",
       "      <th></th>\n",
       "      <th></th>\n",
       "      <th></th>\n",
       "    </tr>\n",
       "  </thead>\n",
       "  <tbody>\n",
       "    <tr>\n",
       "      <th>Amer-Indian-Eskimo</th>\n",
       "      <td>192.0</td>\n",
       "      <td>37.208333</td>\n",
       "      <td>12.049563</td>\n",
       "      <td>17.0</td>\n",
       "      <td>28.0</td>\n",
       "      <td>35.0</td>\n",
       "      <td>45.0</td>\n",
       "      <td>82.0</td>\n",
       "    </tr>\n",
       "    <tr>\n",
       "      <th>Asian-Pac-Islander</th>\n",
       "      <td>693.0</td>\n",
       "      <td>39.073593</td>\n",
       "      <td>12.883944</td>\n",
       "      <td>18.0</td>\n",
       "      <td>29.0</td>\n",
       "      <td>37.0</td>\n",
       "      <td>46.0</td>\n",
       "      <td>90.0</td>\n",
       "    </tr>\n",
       "    <tr>\n",
       "      <th>Black</th>\n",
       "      <td>1569.0</td>\n",
       "      <td>37.682600</td>\n",
       "      <td>12.882612</td>\n",
       "      <td>17.0</td>\n",
       "      <td>27.0</td>\n",
       "      <td>36.0</td>\n",
       "      <td>46.0</td>\n",
       "      <td>90.0</td>\n",
       "    </tr>\n",
       "    <tr>\n",
       "      <th>Other</th>\n",
       "      <td>162.0</td>\n",
       "      <td>34.654321</td>\n",
       "      <td>11.355531</td>\n",
       "      <td>17.0</td>\n",
       "      <td>26.0</td>\n",
       "      <td>32.0</td>\n",
       "      <td>42.0</td>\n",
       "      <td>77.0</td>\n",
       "    </tr>\n",
       "    <tr>\n",
       "      <th>White</th>\n",
       "      <td>19174.0</td>\n",
       "      <td>39.652498</td>\n",
       "      <td>13.436029</td>\n",
       "      <td>17.0</td>\n",
       "      <td>29.0</td>\n",
       "      <td>38.0</td>\n",
       "      <td>49.0</td>\n",
       "      <td>90.0</td>\n",
       "    </tr>\n",
       "  </tbody>\n",
       "</table>\n",
       "</div>"
      ],
      "text/plain": [
       "                      count       mean        std   min   25%   50%   75%  \\\n",
       "race                                                                        \n",
       "Amer-Indian-Eskimo    192.0  37.208333  12.049563  17.0  28.0  35.0  45.0   \n",
       "Asian-Pac-Islander    693.0  39.073593  12.883944  18.0  29.0  37.0  46.0   \n",
       "Black                1569.0  37.682600  12.882612  17.0  27.0  36.0  46.0   \n",
       "Other                 162.0  34.654321  11.355531  17.0  26.0  32.0  42.0   \n",
       "White               19174.0  39.652498  13.436029  17.0  29.0  38.0  49.0   \n",
       "\n",
       "                     max  \n",
       "race                      \n",
       "Amer-Indian-Eskimo  82.0  \n",
       "Asian-Pac-Islander  90.0  \n",
       "Black               90.0  \n",
       "Other               77.0  \n",
       "White               90.0  "
      ]
     },
     "metadata": {},
     "output_type": "display_data"
    },
    {
     "data": {
      "text/html": [
       "<div>\n",
       "<style scoped>\n",
       "    .dataframe tbody tr th:only-of-type {\n",
       "        vertical-align: middle;\n",
       "    }\n",
       "\n",
       "    .dataframe tbody tr th {\n",
       "        vertical-align: top;\n",
       "    }\n",
       "\n",
       "    .dataframe thead th {\n",
       "        text-align: right;\n",
       "    }\n",
       "</style>\n",
       "<table border=\"1\" class=\"dataframe\">\n",
       "  <thead>\n",
       "    <tr style=\"text-align: right;\">\n",
       "      <th></th>\n",
       "      <th>count</th>\n",
       "      <th>mean</th>\n",
       "      <th>std</th>\n",
       "      <th>min</th>\n",
       "      <th>25%</th>\n",
       "      <th>50%</th>\n",
       "      <th>75%</th>\n",
       "      <th>max</th>\n",
       "    </tr>\n",
       "    <tr>\n",
       "      <th>race</th>\n",
       "      <th></th>\n",
       "      <th></th>\n",
       "      <th></th>\n",
       "      <th></th>\n",
       "      <th></th>\n",
       "      <th></th>\n",
       "      <th></th>\n",
       "      <th></th>\n",
       "    </tr>\n",
       "  </thead>\n",
       "  <tbody>\n",
       "    <tr>\n",
       "      <th>Amer-Indian-Eskimo</th>\n",
       "      <td>119.0</td>\n",
       "      <td>37.117647</td>\n",
       "      <td>13.114991</td>\n",
       "      <td>17.0</td>\n",
       "      <td>27.0</td>\n",
       "      <td>36.0</td>\n",
       "      <td>46.00</td>\n",
       "      <td>80.0</td>\n",
       "    </tr>\n",
       "    <tr>\n",
       "      <th>Asian-Pac-Islander</th>\n",
       "      <td>346.0</td>\n",
       "      <td>35.089595</td>\n",
       "      <td>12.300845</td>\n",
       "      <td>17.0</td>\n",
       "      <td>25.0</td>\n",
       "      <td>33.0</td>\n",
       "      <td>43.75</td>\n",
       "      <td>75.0</td>\n",
       "    </tr>\n",
       "    <tr>\n",
       "      <th>Black</th>\n",
       "      <td>1555.0</td>\n",
       "      <td>37.854019</td>\n",
       "      <td>12.637197</td>\n",
       "      <td>17.0</td>\n",
       "      <td>28.0</td>\n",
       "      <td>37.0</td>\n",
       "      <td>46.00</td>\n",
       "      <td>90.0</td>\n",
       "    </tr>\n",
       "    <tr>\n",
       "      <th>Other</th>\n",
       "      <td>109.0</td>\n",
       "      <td>31.678899</td>\n",
       "      <td>11.631599</td>\n",
       "      <td>17.0</td>\n",
       "      <td>23.0</td>\n",
       "      <td>29.0</td>\n",
       "      <td>39.00</td>\n",
       "      <td>74.0</td>\n",
       "    </tr>\n",
       "    <tr>\n",
       "      <th>White</th>\n",
       "      <td>8642.0</td>\n",
       "      <td>36.811618</td>\n",
       "      <td>14.329093</td>\n",
       "      <td>17.0</td>\n",
       "      <td>25.0</td>\n",
       "      <td>35.0</td>\n",
       "      <td>46.00</td>\n",
       "      <td>90.0</td>\n",
       "    </tr>\n",
       "  </tbody>\n",
       "</table>\n",
       "</div>"
      ],
      "text/plain": [
       "                     count       mean        std   min   25%   50%    75%  \\\n",
       "race                                                                        \n",
       "Amer-Indian-Eskimo   119.0  37.117647  13.114991  17.0  27.0  36.0  46.00   \n",
       "Asian-Pac-Islander   346.0  35.089595  12.300845  17.0  25.0  33.0  43.75   \n",
       "Black               1555.0  37.854019  12.637197  17.0  28.0  37.0  46.00   \n",
       "Other                109.0  31.678899  11.631599  17.0  23.0  29.0  39.00   \n",
       "White               8642.0  36.811618  14.329093  17.0  25.0  35.0  46.00   \n",
       "\n",
       "                     max  \n",
       "race                      \n",
       "Amer-Indian-Eskimo  80.0  \n",
       "Asian-Pac-Islander  75.0  \n",
       "Black               90.0  \n",
       "Other               74.0  \n",
       "White               90.0  "
      ]
     },
     "metadata": {},
     "output_type": "display_data"
    }
   ],
   "source": [
    "display(data[data['sex'] == 'Male'].groupby(['race'])['age'].describe())\n",
    "display(data[data['sex'] == 'Female'].groupby(['race'])['age'].describe())"
   ]
  },
  {
   "cell_type": "markdown",
   "id": "36ffa5ff-be1e-4abd-9033-6f9f322489af",
   "metadata": {},
   "source": [
    "**8. Among whom is the proportion of those who earn a lot (>50K) greater: married or single men (marital-status feature)? Consider as married those who have a marital-status starting with Married (Married-civ-spouse, Married-spouse-absent or Married-AF-spouse), the rest are considered bachelors.**"
   ]
  },
  {
   "cell_type": "code",
   "execution_count": 77,
   "id": "482ac9ba-cdff-4067-9954-0f2228e57aa5",
   "metadata": {},
   "outputs": [
    {
     "data": {
      "text/plain": [
       "Married-civ-spouse       5938\n",
       "Never-married             325\n",
       "Divorced                  284\n",
       "Separated                  49\n",
       "Widowed                    39\n",
       "Married-spouse-absent      23\n",
       "Married-AF-spouse           4\n",
       "Name: marital-status, dtype: int64"
      ]
     },
     "execution_count": 77,
     "metadata": {},
     "output_type": "execute_result"
    }
   ],
   "source": [
    "data[(data['salary'] == '>50K') & (data['sex'] == 'Male')]['marital-status'].value_counts()"
   ]
  },
  {
   "cell_type": "code",
   "execution_count": 164,
   "id": "d24e3c21-9718-4397-94e0-ef86ed9e477d",
   "metadata": {},
   "outputs": [],
   "source": [
    "def idx(marital_status): \n",
    "    return 'Married' if marital_status in ['Married-civ-spouse','Married-spouse-absent','Married-AF-spouse'] else 'Single'"
   ]
  },
  {
   "cell_type": "code",
   "execution_count": 165,
   "id": "0596d897-9a73-41d8-89f4-b8cbef5c7ef9",
   "metadata": {},
   "outputs": [],
   "source": [
    "data['marital-status-1'] = data['marital-status'].apply(idx)"
   ]
  },
  {
   "cell_type": "code",
   "execution_count": 167,
   "id": "8e8cf351-5ad3-4263-a7fa-9f39d58db5cd",
   "metadata": {},
   "outputs": [
    {
     "data": {
      "text/plain": [
       "Married    0.895377\n",
       "Single     0.104623\n",
       "Name: marital-status-1, dtype: float64"
      ]
     },
     "execution_count": 167,
     "metadata": {},
     "output_type": "execute_result"
    }
   ],
   "source": [
    "data[(data['salary'] == '>50K') & (data['sex'] == 'Male')]['marital-status-1'].value_counts(normalize=True) \n",
    "#Among those who earn more than 50K, more married males"
   ]
  },
  {
   "cell_type": "code",
   "execution_count": 168,
   "id": "69594dc8-1dac-4714-9353-b4f4cbe9d0c3",
   "metadata": {},
   "outputs": [
    {
     "data": {
      "text/plain": [
       "<=50K    0.559486\n",
       ">50K     0.440514\n",
       "Name: salary, dtype: float64"
      ]
     },
     "execution_count": 168,
     "metadata": {},
     "output_type": "execute_result"
    }
   ],
   "source": [
    "data[(data['marital-status-1'] == 'Married') & (data['sex'] == 'Male')]['salary'].value_counts(normalize=True)\n",
    "#Among married males, the proportion earning more than 50K is 11 p.p. less."
   ]
  },
  {
   "cell_type": "code",
   "execution_count": 169,
   "id": "6293c7de-eb74-4517-8a71-32aec041d40d",
   "metadata": {},
   "outputs": [
    {
     "data": {
      "text/plain": [
       "<=50K    0.915505\n",
       ">50K     0.084495\n",
       "Name: salary, dtype: float64"
      ]
     },
     "execution_count": 169,
     "metadata": {},
     "output_type": "execute_result"
    }
   ],
   "source": [
    "data[(data['marital-status-1'] == 'Single') & (data['sex'] == 'Male')]['salary'].value_counts(normalize=True)\n",
    "#Among single males, the proportion earning more than 50K is less than 10% "
   ]
  },
  {
   "cell_type": "markdown",
   "id": "d18ecfbc-468f-48d1-96e9-d47f7b4636dc",
   "metadata": {},
   "source": [
    "**9. What is the maximum number of hours a person works per week (hours-per-week feature)? How many people work such a number of hours, and what is the percentage of those who earn a lot (>50K) among them?**"
   ]
  },
  {
   "cell_type": "code",
   "execution_count": 174,
   "id": "b7da289c-dd34-4675-b10b-cc8e673bab1c",
   "metadata": {},
   "outputs": [
    {
     "data": {
      "text/plain": [
       "8654     99\n",
       "15460    99\n",
       "935      99\n",
       "26250    99\n",
       "16992    99\n",
       "         ..\n",
       "22960     1\n",
       "9147      1\n",
       "29752     1\n",
       "5590      1\n",
       "32525     1\n",
       "Name: hours-per-week, Length: 32561, dtype: int64"
      ]
     },
     "execution_count": 174,
     "metadata": {},
     "output_type": "execute_result"
    }
   ],
   "source": [
    "data['hours-per-week'].sort_values(ascending=False) "
   ]
  },
  {
   "cell_type": "code",
   "execution_count": 179,
   "id": "d6614788-2828-47a4-91ef-14a5f14880e3",
   "metadata": {},
   "outputs": [
    {
     "data": {
      "text/plain": [
       "85"
      ]
     },
     "execution_count": 179,
     "metadata": {},
     "output_type": "execute_result"
    }
   ],
   "source": [
    "data[data['hours-per-week'] == 99].shape[0]"
   ]
  },
  {
   "cell_type": "code",
   "execution_count": 182,
   "id": "b5a40271-0092-4c4f-8a62-8bffc8369e6a",
   "metadata": {},
   "outputs": [
    {
     "data": {
      "text/plain": [
       "<=50K    0.705882\n",
       ">50K     0.294118\n",
       "Name: salary, dtype: float64"
      ]
     },
     "execution_count": 182,
     "metadata": {},
     "output_type": "execute_result"
    }
   ],
   "source": [
    "data[data['hours-per-week'] == 99]['salary'].value_counts(normalize=True)"
   ]
  },
  {
   "cell_type": "markdown",
   "id": "4f2cf521-16bc-46d7-81ad-7bdc146e76ff",
   "metadata": {},
   "source": [
    "**10. Count the average time of work (hours-per-week) for those who earn a little and a lot (salary) for each country (native-country). What will these be for Japan?**\n"
   ]
  },
  {
   "cell_type": "code",
   "execution_count": 190,
   "id": "8f588533-7868-4973-aec4-d8334b59cb59",
   "metadata": {},
   "outputs": [
    {
     "data": {
      "text/plain": [
       "native-country\n",
       "Honduras              60.000000\n",
       "Thailand              58.333333\n",
       "South                 51.437500\n",
       "France                50.750000\n",
       "Greece                50.625000\n",
       "Columbia              50.000000\n",
       "Hungary               50.000000\n",
       "Yugoslavia            49.500000\n",
       "Ecuador               48.750000\n",
       "Ireland               48.000000\n",
       "Japan                 47.958333\n",
       "Iran                  47.500000\n",
       "Dominican-Republic    47.000000\n",
       "Taiwan                46.800000\n",
       "Scotland              46.666667\n",
       "Mexico                46.575758\n",
       "India                 46.475000\n",
       "Canada                45.641026\n",
       "?                     45.547945\n",
       "United-States         45.505369\n",
       "Italy                 45.400000\n",
       "Hong                  45.000000\n",
       "El-Salvador           45.000000\n",
       "Germany               44.977273\n",
       "England               44.533333\n",
       "Philippines           43.032787\n",
       "Haiti                 42.750000\n",
       "Cuba                  42.440000\n",
       "Portugal              41.500000\n",
       "Jamaica               41.100000\n",
       "Peru                  40.000000\n",
       "Cambodia              40.000000\n",
       "Laos                  40.000000\n",
       "Trinadad&Tobago       40.000000\n",
       "Puerto-Rico           39.416667\n",
       "Vietnam               39.200000\n",
       "Poland                39.000000\n",
       "China                 38.900000\n",
       "Nicaragua             37.500000\n",
       "Guatemala             36.666667\n",
       "Name: hours-per-week, dtype: float64"
      ]
     },
     "execution_count": 190,
     "metadata": {},
     "output_type": "execute_result"
    }
   ],
   "source": [
    "data[data['salary'] == '>50K'].groupby('native-country')['hours-per-week'].mean().sort_values(ascending=False) \n",
    "#Japan 47.958333"
   ]
  },
  {
   "cell_type": "code",
   "execution_count": 191,
   "id": "e93bd59c-c855-4d61-93ba-49f7f5ef4297",
   "metadata": {},
   "outputs": [
    {
     "data": {
      "text/plain": [
       "native-country\n",
       "Thailand                      42.866667\n",
       "Dominican-Republic            42.338235\n",
       "Portugal                      41.939394\n",
       "Outlying-US(Guam-USVI-etc)    41.857143\n",
       "Greece                        41.809524\n",
       "Yugoslavia                    41.600000\n",
       "Iran                          41.440000\n",
       "Cambodia                      41.416667\n",
       "France                        41.058824\n",
       "Japan                         41.000000\n",
       "Ireland                       40.947368\n",
       "England                       40.483333\n",
       "Laos                          40.375000\n",
       "?                             40.164760\n",
       "South                         40.156250\n",
       "Mexico                        40.003279\n",
       "Holand-Netherlands            40.000000\n",
       "Italy                         39.625000\n",
       "Scotland                      39.444444\n",
       "Guatemala                     39.360656\n",
       "Hong                          39.142857\n",
       "Germany                       39.139785\n",
       "United-States                 38.799127\n",
       "Columbia                      38.684211\n",
       "Puerto-Rico                   38.470588\n",
       "Jamaica                       38.239437\n",
       "India                         38.233333\n",
       "Poland                        38.166667\n",
       "Philippines                   38.065693\n",
       "Ecuador                       38.041667\n",
       "Cuba                          37.985714\n",
       "Canada                        37.914634\n",
       "China                         37.381818\n",
       "Vietnam                       37.193548\n",
       "Trinadad&Tobago               37.058824\n",
       "Haiti                         36.325000\n",
       "Nicaragua                     36.093750\n",
       "El-Salvador                   36.030928\n",
       "Peru                          35.068966\n",
       "Honduras                      34.333333\n",
       "Taiwan                        33.774194\n",
       "Hungary                       31.300000\n",
       "Name: hours-per-week, dtype: float64"
      ]
     },
     "execution_count": 191,
     "metadata": {},
     "output_type": "execute_result"
    }
   ],
   "source": [
    "data[data['salary'] == '<=50K'].groupby('native-country')['hours-per-week'].mean().sort_values(ascending=False)\n",
    "#Japan 41.000000"
   ]
  },
  {
   "cell_type": "code",
   "execution_count": null,
   "id": "65114003-e9b9-48db-a139-960af6883b4e",
   "metadata": {},
   "outputs": [],
   "source": []
  }
 ],
 "metadata": {
  "kernelspec": {
   "display_name": "Python 3",
   "language": "python",
   "name": "python3"
  },
  "language_info": {
   "codemirror_mode": {
    "name": "ipython",
    "version": 3
   },
   "file_extension": ".py",
   "mimetype": "text/x-python",
   "name": "python",
   "nbconvert_exporter": "python",
   "pygments_lexer": "ipython3",
   "version": "3.8.8"
  }
 },
 "nbformat": 4,
 "nbformat_minor": 5
}
